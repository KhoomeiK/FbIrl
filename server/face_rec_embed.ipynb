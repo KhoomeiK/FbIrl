{
 "cells": [
  {
   "cell_type": "code",
   "execution_count": 8,
   "metadata": {},
   "outputs": [
    {
     "name": "stdout",
     "output_type": "stream",
     "text": [
      "It's not a picture of me!\n"
     ]
    }
   ],
   "source": [
    "import face_recognition\n",
    "\n",
    "picture_of_me = face_recognition.load_image_file(\"picture_of_rohan.jpg\")\n",
    "my_face_encoding = face_recognition.face_encodings(picture_of_me)[0]\n",
    "\n",
    "# my_face_encoding now contains a universal 'encoding' of my facial features that can be compared to any other picture of a face!\n",
    "\n",
    "unknown_picture = face_recognition.load_image_file(\"picture_of_rui.jpg\")\n",
    "unknown_face_encoding = face_recognition.face_encodings(unknown_picture)[0]\n",
    "\n",
    "# Now we can see the two face encodings are of the same person with `compare_faces`!\n",
    "\n",
    "results = face_recognition.compare_faces([my_face_encoding], unknown_face_encoding)\n",
    "\n",
    "if results[0] == True:\n",
    "    print(\"It's a picture of me!\")\n",
    "else:\n",
    "    print(\"It's not a picture of me!\")"
   ]
  },
  {
   "cell_type": "code",
   "execution_count": 5,
   "metadata": {},
   "outputs": [
    {
     "name": "stdout",
     "output_type": "stream",
     "text": [
      "3840\n"
     ]
    }
   ],
   "source": [
    "print(len(picture_of_me))"
   ]
  },
  {
   "cell_type": "code",
   "execution_count": null,
   "metadata": {},
   "outputs": [],
   "source": []
  }
 ],
 "metadata": {
  "kernelspec": {
   "display_name": "Python 3",
   "language": "python",
   "name": "python3"
  },
  "language_info": {
   "codemirror_mode": {
    "name": "ipython",
    "version": 3
   },
   "file_extension": ".py",
   "mimetype": "text/x-python",
   "name": "python",
   "nbconvert_exporter": "python",
   "pygments_lexer": "ipython3",
   "version": "3.7.5"
  }
 },
 "nbformat": 4,
 "nbformat_minor": 4
}
