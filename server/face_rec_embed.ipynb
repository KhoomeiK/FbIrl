{
 "cells": [
  {
   "cell_type": "code",
   "execution_count": 18,
   "metadata": {},
   "outputs": [
    {
     "name": "stdout",
     "output_type": "stream",
     "text": [
      "[0.70846009 0.52509367 0.31154406]\n"
     ]
    }
   ],
   "source": [
    "import face_recognition\n",
    "\n",
    "picture_of_me = face_recognition.load_image_file(\"phone_img_before_crop.jpg\")\n",
    "face_encoding = face_recognition.face_encodings(picture_of_me)[0]\n",
    "\n",
    "# my_face_encoding now contains a universal 'encoding' of my facial features that can be compared to any other picture of a face!\n",
    "\n",
    "picture_of_rui = face_recognition.load_image_file(\"picture_of_rui.jpg\")\n",
    "rui_face_encoding = face_recognition.face_encodings(picture_of_rui)[0]\n",
    "picture_of_adil = face_recognition.load_image_file(\"picture_of_adil.jpg\")\n",
    "adil_face_encoding = face_recognition.face_encodings(picture_of_adil)[0]\n",
    "picture_of_rohan = face_recognition.load_image_file(\"picture_of_rohan.jpg\")\n",
    "rohan_face_encoding = face_recognition.face_encodings(picture_of_rohan)[0]\n",
    "\n",
    "results = face_recognition.face_distance([rui_face_encoding, adil_face_encoding, rohan_face_encoding], face_encoding)\n",
    "\n",
    "print(results)\n",
    "# Now we can see the two face encodings are of the same person with `compare_faces`!\n",
    "\n",
    "# results = face_recognition.compare_faces([my_face_encoding, my_face_encoding], unknown_face_encoding)\n",
    "\n",
    "# print(results)\n",
    "\n",
    "# if results[0] == True:\n",
    "#     print(\"It's a picture of me!\")\n",
    "# else:\n",
    "#     print(\"It's not a picture of me!\")"
   ]
  },
  {
   "cell_type": "code",
   "execution_count": 5,
   "metadata": {},
   "outputs": [
    {
     "name": "stdout",
     "output_type": "stream",
     "text": [
      "3840\n"
     ]
    }
   ],
   "source": [
    "print(len(picture_of_me))"
   ]
  },
  {
   "cell_type": "code",
   "execution_count": 14,
   "metadata": {},
   "outputs": [
    {
     "data": {
      "text/plain": [
       "[]"
      ]
     },
     "execution_count": 14,
     "metadata": {},
     "output_type": "execute_result"
    }
   ],
   "source": []
  },
  {
   "cell_type": "code",
   "execution_count": null,
   "metadata": {},
   "outputs": [],
   "source": []
  }
 ],
 "metadata": {
  "kernelspec": {
   "display_name": "Python 3",
   "language": "python",
   "name": "python3"
  },
  "language_info": {
   "codemirror_mode": {
    "name": "ipython",
    "version": 3
   },
   "file_extension": ".py",
   "mimetype": "text/x-python",
   "name": "python",
   "nbconvert_exporter": "python",
   "pygments_lexer": "ipython3",
   "version": "3.7.5"
  }
 },
 "nbformat": 4,
 "nbformat_minor": 4
}
